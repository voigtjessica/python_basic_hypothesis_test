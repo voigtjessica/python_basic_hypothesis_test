{
 "cells": [
  {
   "cell_type": "markdown",
   "metadata": {},
   "source": [
    "# Chi-squared test\n",
    "\n",
    "A chi-squared test exists to test the association between two categorical variables.\n",
    "\n",
    "We are ging to use another example from AGRESTI and FINLAY (2012). In this example, we want to see if party association has any gender bias. Therefore our hypothesis are: <br><br>\n",
    "\n",
    "H0 : Gender does not influenciate political prerfernces<br>\n",
    "H1: Gender influenciates political preferences<br><br>\n",
    "\n",
    "\n",
    "First we need to form a contingency table in which each row is the independent variable and each column is the dependent variable.\n",
    "We are going to use the contingency table (e.g. already grouped) from the book:\n"
   ]
  },
  {
   "cell_type": "code",
   "execution_count": 1,
   "metadata": {},
   "outputs": [],
   "source": [
    "import numpy as np\n",
    "import pandas as pd\n",
    "from scipy import stats"
   ]
  },
  {
   "cell_type": "code",
   "execution_count": 3,
   "metadata": {},
   "outputs": [
    {
     "data": {
      "text/html": [
       "<div>\n",
       "<style scoped>\n",
       "    .dataframe tbody tr th:only-of-type {\n",
       "        vertical-align: middle;\n",
       "    }\n",
       "\n",
       "    .dataframe tbody tr th {\n",
       "        vertical-align: top;\n",
       "    }\n",
       "\n",
       "    .dataframe thead th {\n",
       "        text-align: right;\n",
       "    }\n",
       "</style>\n",
       "<table border=\"1\" class=\"dataframe\">\n",
       "  <thead>\n",
       "    <tr style=\"text-align: right;\">\n",
       "      <th></th>\n",
       "      <th>democrats</th>\n",
       "      <th>independent</th>\n",
       "      <th>republicans</th>\n",
       "      <th>total</th>\n",
       "    </tr>\n",
       "  </thead>\n",
       "  <tbody>\n",
       "    <tr>\n",
       "      <th>women</th>\n",
       "      <td>573</td>\n",
       "      <td>516</td>\n",
       "      <td>422</td>\n",
       "      <td>1511</td>\n",
       "    </tr>\n",
       "    <tr>\n",
       "      <th>men</th>\n",
       "      <td>386</td>\n",
       "      <td>475</td>\n",
       "      <td>399</td>\n",
       "      <td>1260</td>\n",
       "    </tr>\n",
       "    <tr>\n",
       "      <th>total</th>\n",
       "      <td>959</td>\n",
       "      <td>991</td>\n",
       "      <td>821</td>\n",
       "      <td>2771</td>\n",
       "    </tr>\n",
       "  </tbody>\n",
       "</table>\n",
       "</div>"
      ],
      "text/plain": [
       "       democrats  independent  republicans  total\n",
       "women        573          516          422   1511\n",
       "men          386          475          399   1260\n",
       "total        959          991          821   2771"
      ]
     },
     "execution_count": 3,
     "metadata": {},
     "output_type": "execute_result"
    }
   ],
   "source": [
    "gender = ['women', 'men', 'total']\n",
    "\n",
    "df = {'democrats' : [573, 386, 959],\n",
    "       'independent': [516, 475, 991],\n",
    "       'republicans': [422, 399, 821],\n",
    "       'total': [1511, 1260, 2771]}\n",
    "\n",
    "df = pd.DataFrame(df, index = gender)\n",
    "df"
   ]
  },
  {
   "cell_type": "code",
   "execution_count": 4,
   "metadata": {},
   "outputs": [
    {
     "data": {
      "text/plain": [
       "array([[573, 516, 422],\n",
       "       [386, 475, 399]])"
      ]
     },
     "execution_count": 4,
     "metadata": {},
     "output_type": "execute_result"
    }
   ],
   "source": [
    "# Let's do the test\n",
    "\n",
    "#first, getting the totals:\n",
    "df = df.iloc[:2]\n",
    "\n",
    "data = df[['democrats', 'independent', 'republicans']].to_numpy()\n",
    "data"
   ]
  },
  {
   "cell_type": "code",
   "execution_count": 6,
   "metadata": {},
   "outputs": [
    {
     "name": "stdout",
     "output_type": "stream",
     "text": [
      "===Chi2 Stat===\n",
      "16.201726038971145\n",
      "\n",
      "\n",
      "===Degrees of Freedom===\n",
      "2\n",
      "\n",
      "\n",
      "===P-Value===\n",
      "0.0003032772908939342\n",
      "\n",
      "\n",
      "===Contingency Table===\n",
      "[[522.93359798 540.38289426 447.68350776]\n",
      " [436.06640202 450.61710574 373.31649224]]\n"
     ]
    }
   ],
   "source": [
    "#Chi-suqared test\n",
    "\n",
    "chi2_stat, p_val, dof, ex = stats.chi2_contingency(data)\n",
    "\n",
    "print(\"===Chi2 Stat===\")\n",
    "print(chi2_stat)\n",
    "print(\"\\n\")\n",
    "print(\"===Degrees of Freedom===\")\n",
    "print(dof)\n",
    "print(\"\\n\")\n",
    "print(\"===P-Value===\")\n",
    "print(p_val)\n",
    "print(\"\\n\")\n",
    "print(\"===Contingency Table===\")\n",
    "print(ex)"
   ]
  },
  {
   "cell_type": "markdown",
   "metadata": {},
   "source": [
    "Our p-value is lower than 0.05, which means that we can reject the null hypothesis and assume that there is a gender bias in political preferences"
   ]
  }
 ],
 "metadata": {
  "kernelspec": {
   "display_name": "Python 3",
   "language": "python",
   "name": "python3"
  },
  "language_info": {
   "codemirror_mode": {
    "name": "ipython",
    "version": 3
   },
   "file_extension": ".py",
   "mimetype": "text/x-python",
   "name": "python",
   "nbconvert_exporter": "python",
   "pygments_lexer": "ipython3",
   "version": "3.8.5"
  }
 },
 "nbformat": 4,
 "nbformat_minor": 4
}
