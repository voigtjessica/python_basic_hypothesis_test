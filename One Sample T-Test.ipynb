{
 "cells": [
  {
   "cell_type": "markdown",
   "metadata": {},
   "source": [
    "# One sample T-test\n",
    "\n",
    "**Goal:** see if the mean of a gievn population differs from a given number.\n",
    "\n",
    "## Example 1: High of the girls from Santos\n",
    "\n",
    "We know that the average high of Brazilian women is 1.60. There was a pool with women from Santos to see if their high is the same of the country or if its different.\n",
    "<br><br>\n",
    "H1: mean_santos_women != mean_brazilian_women <br>\n",
    "H0: mean_santos_women == mean_brazilian_women<br>\n",
    "<br><br>\n",
    "**Assumptions:** <br>\n",
    "1 The dependent variable is continuous<br>\n",
    "2 Observations are independent of each other (e.g., all women are unrelated)<br>\n",
    "3 The dependent variable has a continuous distribution<br>\n",
    "4 The dependent variable has no significant outliers<br>"
   ]
  },
  {
   "cell_type": "code",
   "execution_count": 16,
   "metadata": {},
   "outputs": [],
   "source": [
    "import numpy as np\n",
    "import random\n",
    "import seaborn as sns\n",
    "import matplotlib.pyplot as plt\n",
    "import scipy\n",
    "from scipy import stats"
   ]
  },
  {
   "cell_type": "code",
   "execution_count": 14,
   "metadata": {},
   "outputs": [],
   "source": [
    "# Creating my pool:\n",
    "\n",
    "random.seed(20) \n",
    "\n",
    "santos_pool = [random.randint(149, 187) for x in range(50)] "
   ]
  },
  {
   "cell_type": "code",
   "execution_count": 17,
   "metadata": {},
   "outputs": [
    {
     "data": {
      "text/plain": [
       "Text(0.5, 1.0, 'High Santos in cm')"
      ]
     },
     "execution_count": 17,
     "metadata": {},
     "output_type": "execute_result"
    },
    {
     "data": {
      "image/png": "[encoded data removed]",
      "text/plain": [
       "<Figure size 432x288 with 1 Axes>"
      ]
     },
     "metadata": {
      "needs_background": "light"
     },
     "output_type": "display_data"
    }
   ],
   "source": [
    "# Now let's take a look of the distribution of the highs in Santos\n",
    "\n",
    "sns.kdeplot(santos_pool, shade=True)\n",
    "plt.title(\"High Santos in cm\")"
   ]
  },
  {
   "cell_type": "code",
   "execution_count": 18,
   "metadata": {},
   "outputs": [
    {
     "name": "stdout",
     "output_type": "stream",
     "text": [
      "P-Value:0.0009635749523333777 T-Statistic:3.512820543736554\n"
     ]
    }
   ],
   "source": [
    "# Now let's run the test:\n",
    "\n",
    "#hypothesized population mean\n",
    "popmean = 160  \n",
    "\n",
    "#teste:\n",
    "tStat, pValue =  scipy.stats.ttest_1samp(santos_pool, popmean, axis=0)\n",
    "\n",
    "print(\"P-Value:{0} T-Statistic:{1}\".format(pValue,tStat))"
   ]
  },
  {
   "cell_type": "markdown",
   "metadata": {},
   "source": [
    "Our p-value is higher than 0.05, therefore we do not reject the null hypothesis, meaning that we cannot say that, on average, woman from Santos are taller ten the brazilian mean\n",
    "\n",
    "## Example 2: Conservadorism among black people\n",
    "\n",
    "This is an example from the AGRESTI and FINLAY (2012). A pool was made in the USA to see if the population was more liberal or more conservative. In a range between 1 to 7, the interviewers need to say if they were more liberal (1) or more conservative (7).<br>\n",
    "We want to see if black people are statistically conservative. Therefore our hypothesis are:\n",
    "<br><br>\n",
    "H1: mean_black_score > 4 <br>\n",
    "H0: mean_black_score ≤ 4<br>\n"
   ]
  },
  {
   "cell_type": "code",
   "execution_count": 23,
   "metadata": {
    "scrolled": true
   },
   "outputs": [
    {
     "data": {
      "text/html": [
       "<div>\n",
       "<style scoped>\n",
       "    .dataframe tbody tr th:only-of-type {\n",
       "        vertical-align: middle;\n",
       "    }\n",
       "\n",
       "    .dataframe tbody tr th {\n",
       "        vertical-align: top;\n",
       "    }\n",
       "\n",
       "    .dataframe thead th {\n",
       "        text-align: right;\n",
       "    }\n",
       "</style>\n",
       "<table border=\"1\" class=\"dataframe\">\n",
       "  <thead>\n",
       "    <tr style=\"text-align: right;\">\n",
       "      <th></th>\n",
       "      <th>score</th>\n",
       "      <th>black</th>\n",
       "      <th>white</th>\n",
       "      <th>others</th>\n",
       "    </tr>\n",
       "  </thead>\n",
       "  <tbody>\n",
       "    <tr>\n",
       "      <th>1. Extremely liberal</th>\n",
       "      <td>1</td>\n",
       "      <td>10</td>\n",
       "      <td>36</td>\n",
       "      <td>1</td>\n",
       "    </tr>\n",
       "    <tr>\n",
       "      <th>2. Liberal</th>\n",
       "      <td>2</td>\n",
       "      <td>21</td>\n",
       "      <td>109</td>\n",
       "      <td>13</td>\n",
       "    </tr>\n",
       "    <tr>\n",
       "      <th>3. A little liberal</th>\n",
       "      <td>3</td>\n",
       "      <td>22</td>\n",
       "      <td>124</td>\n",
       "      <td>13</td>\n",
       "    </tr>\n",
       "    <tr>\n",
       "      <th>4. Non liberal, nor conservative</th>\n",
       "      <td>4</td>\n",
       "      <td>74</td>\n",
       "      <td>421</td>\n",
       "      <td>27</td>\n",
       "    </tr>\n",
       "    <tr>\n",
       "      <th>5. A little conservative</th>\n",
       "      <td>5</td>\n",
       "      <td>21</td>\n",
       "      <td>179</td>\n",
       "      <td>9</td>\n",
       "    </tr>\n",
       "    <tr>\n",
       "      <th>6. Conservative</th>\n",
       "      <td>6</td>\n",
       "      <td>27</td>\n",
       "      <td>176</td>\n",
       "      <td>7</td>\n",
       "    </tr>\n",
       "    <tr>\n",
       "      <th>7. Extremely conservative</th>\n",
       "      <td>7</td>\n",
       "      <td>11</td>\n",
       "      <td>28</td>\n",
       "      <td>2</td>\n",
       "    </tr>\n",
       "  </tbody>\n",
       "</table>\n",
       "</div>"
      ],
      "text/plain": [
       "                                  score  black  white  others\n",
       "1. Extremely liberal                  1     10     36       1\n",
       "2. Liberal                            2     21    109      13\n",
       "3. A little liberal                   3     22    124      13\n",
       "4. Non liberal, nor conservative      4     74    421      27\n",
       "5. A little conservative              5     21    179       9\n",
       "6. Conservative                       6     27    176       7\n",
       "7. Extremely conservative             7     11     28       2"
      ]
     },
     "execution_count": 23,
     "metadata": {},
     "output_type": "execute_result"
    }
   ],
   "source": [
    "# Creating the results:\n",
    "\n",
    "psg = { 'score': [1,2,3,4,5,6,7], \n",
    "       'black' : [10, 21, 22, 74, 21, 27, 11], \n",
    "       'white' : [36, 109, 124, 421, 179, 176, 28], \n",
    "       'others' : [1, 13, 13, 27, 9, 7, 2]}\n",
    "\n",
    "resposta =  ['1. Extremely liberal', '2. Liberal', '3. A little liberal', '4. Non liberal, nor conservative',\n",
    "     '5. A little conservative', '6. Conservative', '7. Extremely conservative']\n",
    "\n",
    "psg = pd.DataFrame(psg, index = resposta)\n",
    "psg"
   ]
  },
  {
   "cell_type": "code",
   "execution_count": 43,
   "metadata": {},
   "outputs": [
    {
     "data": {
      "text/plain": [
       "7"
      ]
     },
     "execution_count": 43,
     "metadata": {},
     "output_type": "execute_result"
    }
   ],
   "source": [
    "position = 6\n",
    "\n",
    "psg.iloc[position,0]"
   ]
  },
  {
   "cell_type": "markdown",
   "metadata": {},
   "source": [
    "To keep with our analisys, we need to create an array containing the score of which respondent: "
   ]
  },
  {
   "cell_type": "code",
   "execution_count": 44,
   "metadata": {},
   "outputs": [
    {
     "data": {
      "text/plain": [
       "array([1, 1, 1, 1, 1, 1, 1, 1, 1, 1, 2, 2, 2, 2, 2, 2, 2, 2, 2, 2, 2, 2,\n",
       "       2, 2, 2, 2, 2, 2, 2, 2, 2, 3, 3, 3, 3, 3, 3, 3, 3, 3, 3, 3, 3, 3,\n",
       "       3, 3, 3, 3, 3, 3, 3, 3, 3, 4, 4, 4, 4, 4, 4, 4, 4, 4, 4, 4, 4, 4,\n",
       "       4, 4, 4, 4, 4, 4, 4, 4, 4, 4, 4, 4, 4, 4, 4, 4, 4, 4, 4, 4, 4, 4,\n",
       "       4, 4, 4, 4, 4, 4, 4, 4, 4, 4, 4, 4, 4, 4, 4, 4, 4, 4, 4, 4, 4, 4,\n",
       "       4, 4, 4, 4, 4, 4, 4, 4, 4, 4, 4, 4, 4, 4, 4, 4, 4, 5, 5, 5, 5, 5,\n",
       "       5, 5, 5, 5, 5, 5, 5, 5, 5, 5, 5, 5, 5, 5, 5, 5, 6, 6, 6, 6, 6, 6,\n",
       "       6, 6, 6, 6, 6, 6, 6, 6, 6, 6, 6, 6, 6, 6, 6, 6, 6, 6, 6, 6, 6, 7,\n",
       "       7, 7, 7, 7, 7, 7, 7, 7, 7, 7])"
      ]
     },
     "execution_count": 44,
     "metadata": {},
     "output_type": "execute_result"
    }
   ],
   "source": [
    "black_respondents = []\n",
    "\n",
    "for position in range(0,7):\n",
    "    respondents = psg.iloc[position,1]\n",
    "    score = psg.iloc[position,0]\n",
    "    x = np.repeat(score, respondents)\n",
    "    \n",
    "    black_respondents.append(x)\n",
    "\n",
    "# Creating one single array:\n",
    "black_respondents = np.concatenate( black_respondents , axis=0 )\n",
    "black_respondents"
   ]
  },
  {
   "cell_type": "code",
   "execution_count": 45,
   "metadata": {},
   "outputs": [
    {
     "data": {
      "text/plain": [
       "4.075268817204301"
      ]
     },
     "execution_count": 45,
     "metadata": {},
     "output_type": "execute_result"
    }
   ],
   "source": [
    "# Let's take a look at the score mean:\n",
    "np.mean(black_respondents)"
   ]
  },
  {
   "cell_type": "code",
   "execution_count": 46,
   "metadata": {},
   "outputs": [
    {
     "name": "stdout",
     "output_type": "stream",
     "text": [
      "P-Value:0.4980407237076129 T-Statistic:0.6789141264637335\n"
     ]
    }
   ],
   "source": [
    "# It seems that we won't reject H0, let's make the test:\n",
    "\n",
    "#hypothesized population mean\n",
    "popmean = 4  \n",
    "\n",
    "\n",
    "#teste:\n",
    "tStat, pValue =  scipy.stats.ttest_1samp(black_respondents, popmean, axis=0)\n",
    "\n",
    "print(\"P-Value:{0} T-Statistic:{1}\".format(pValue,tStat))"
   ]
  },
  {
   "cell_type": "markdown",
   "metadata": {},
   "source": [
    "My p-value is greater than 0.05, so I do not reject the null hypothesis, which means that black respondents do not tend toward extreme political ideologies"
   ]
  }
 ],
 "metadata": {
  "kernelspec": {
   "display_name": "Python 3",
   "language": "python",
   "name": "python3"
  },
  "language_info": {
   "codemirror_mode": {
    "name": "ipython",
    "version": 3
   },
   "file_extension": ".py",
   "mimetype": "text/x-python",
   "name": "python",
   "nbconvert_exporter": "python",
   "pygments_lexer": "ipython3",
   "version": "3.8.5"
  }
 },
 "nbformat": 4,
 "nbformat_minor": 4
}
